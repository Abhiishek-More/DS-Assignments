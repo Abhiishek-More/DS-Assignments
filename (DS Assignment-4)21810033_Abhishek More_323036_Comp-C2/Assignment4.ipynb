{
 "cells": [
  {
   "cell_type": "code",
   "execution_count": 1,
   "metadata": {},
   "outputs": [],
   "source": [
    "import numpy as np\n",
    "import pandas as pd\n",
    "from sklearn.model_selection import train_test_split\n",
    "from sklearn.naive_bayes import GaussianNB\n",
    "from sklearn.metrics import accuracy_score\n",
    "import matplotlib.pyplot as plt\n",
    "import seaborn as sns"
   ]
  },
  {
   "cell_type": "code",
   "execution_count": 5,
   "metadata": {},
   "outputs": [
    {
     "data": {
      "text/html": [
       "<div>\n",
       "<style scoped>\n",
       "    .dataframe tbody tr th:only-of-type {\n",
       "        vertical-align: middle;\n",
       "    }\n",
       "\n",
       "    .dataframe tbody tr th {\n",
       "        vertical-align: top;\n",
       "    }\n",
       "\n",
       "    .dataframe thead th {\n",
       "        text-align: right;\n",
       "    }\n",
       "</style>\n",
       "<table border=\"1\" class=\"dataframe\">\n",
       "  <thead>\n",
       "    <tr style=\"text-align: right;\">\n",
       "      <th></th>\n",
       "      <th>province</th>\n",
       "      <th>country</th>\n",
       "      <th>latitude</th>\n",
       "      <th>longitude</th>\n",
       "      <th>confirmed_cases</th>\n",
       "      <th>deaths</th>\n",
       "      <th>recovered</th>\n",
       "      <th>update_time</th>\n",
       "      <th>data_source</th>\n",
       "      <th>country_code</th>\n",
       "      <th>region</th>\n",
       "      <th>country_flag</th>\n",
       "    </tr>\n",
       "  </thead>\n",
       "  <tbody>\n",
       "    <tr>\n",
       "      <th>0</th>\n",
       "      <td>Hubei</td>\n",
       "      <td>China</td>\n",
       "      <td>35.86166</td>\n",
       "      <td>104.195397</td>\n",
       "      <td>729</td>\n",
       "      <td>39.0</td>\n",
       "      <td>NaN</td>\n",
       "      <td>2020-01-24 14:55:00</td>\n",
       "      <td>bno</td>\n",
       "      <td>CHN</td>\n",
       "      <td>Asia</td>\n",
       "      <td>https://www.countryflags.io/cn/flat/64.png</td>\n",
       "    </tr>\n",
       "    <tr>\n",
       "      <th>1</th>\n",
       "      <td>Guangdong</td>\n",
       "      <td>China</td>\n",
       "      <td>35.86166</td>\n",
       "      <td>104.195397</td>\n",
       "      <td>53</td>\n",
       "      <td>0.0</td>\n",
       "      <td>NaN</td>\n",
       "      <td>2020-01-24 14:55:00</td>\n",
       "      <td>bno</td>\n",
       "      <td>CHN</td>\n",
       "      <td>Asia</td>\n",
       "      <td>https://www.countryflags.io/cn/flat/64.png</td>\n",
       "    </tr>\n",
       "    <tr>\n",
       "      <th>2</th>\n",
       "      <td>Zhejiang</td>\n",
       "      <td>China</td>\n",
       "      <td>35.86166</td>\n",
       "      <td>104.195397</td>\n",
       "      <td>43</td>\n",
       "      <td>0.0</td>\n",
       "      <td>NaN</td>\n",
       "      <td>2020-01-24 14:55:00</td>\n",
       "      <td>bno</td>\n",
       "      <td>CHN</td>\n",
       "      <td>Asia</td>\n",
       "      <td>https://www.countryflags.io/cn/flat/64.png</td>\n",
       "    </tr>\n",
       "  </tbody>\n",
       "</table>\n",
       "</div>"
      ],
      "text/plain": [
       "    province country  latitude   longitude  confirmed_cases  deaths  \\\n",
       "0      Hubei   China  35.86166  104.195397              729    39.0   \n",
       "1  Guangdong   China  35.86166  104.195397               53     0.0   \n",
       "2   Zhejiang   China  35.86166  104.195397               43     0.0   \n",
       "\n",
       "   recovered          update_time data_source country_code region  \\\n",
       "0        NaN  2020-01-24 14:55:00         bno          CHN   Asia   \n",
       "1        NaN  2020-01-24 14:55:00         bno          CHN   Asia   \n",
       "2        NaN  2020-01-24 14:55:00         bno          CHN   Asia   \n",
       "\n",
       "                                 country_flag  \n",
       "0  https://www.countryflags.io/cn/flat/64.png  \n",
       "1  https://www.countryflags.io/cn/flat/64.png  \n",
       "2  https://www.countryflags.io/cn/flat/64.png  "
      ]
     },
     "execution_count": 5,
     "metadata": {},
     "output_type": "execute_result"
    }
   ],
   "source": [
    "df = pd.read_csv(\"21810033_Abhishek More_323036_Comp-C2\\Covid testing details.csv\")\n",
    "df.head(3)"
   ]
  },
  {
   "cell_type": "code",
   "execution_count": 6,
   "metadata": {},
   "outputs": [
    {
     "data": {
      "text/plain": [
       "0        2020-01-24 14:55:00\n",
       "1        2020-01-24 14:55:00\n",
       "2        2020-01-24 14:55:00\n",
       "3        2020-01-24 14:55:00\n",
       "4        2020-01-24 14:55:00\n",
       "                ...         \n",
       "24786        3/11/2020 23:13\n",
       "24787        3/11/2020 23:13\n",
       "24788        3/11/2020 23:33\n",
       "24789        3/11/2020 23:53\n",
       "24790        3/11/2020 23:53\n",
       "Name: update_time, Length: 24791, dtype: object"
      ]
     },
     "execution_count": 6,
     "metadata": {},
     "output_type": "execute_result"
    }
   ],
   "source": [
    "df['country_flag'].astype('str')\n",
    "df['latitude'].astype('str')\n",
    "df['longitude'].astype('str')\n",
    "df['update_time'].astype('str')"
   ]
  },
  {
   "cell_type": "code",
   "execution_count": 7,
   "metadata": {},
   "outputs": [],
   "source": [
    "df.drop([\"country_flag\",\"latitude\",\"longitude\",\"update_time\"], inplace = True, axis = 1)"
   ]
  },
  {
   "cell_type": "code",
   "execution_count": 8,
   "metadata": {},
   "outputs": [
    {
     "data": {
      "text/html": [
       "<div>\n",
       "<style scoped>\n",
       "    .dataframe tbody tr th:only-of-type {\n",
       "        vertical-align: middle;\n",
       "    }\n",
       "\n",
       "    .dataframe tbody tr th {\n",
       "        vertical-align: top;\n",
       "    }\n",
       "\n",
       "    .dataframe thead th {\n",
       "        text-align: right;\n",
       "    }\n",
       "</style>\n",
       "<table border=\"1\" class=\"dataframe\">\n",
       "  <thead>\n",
       "    <tr style=\"text-align: right;\">\n",
       "      <th></th>\n",
       "      <th>province</th>\n",
       "      <th>country</th>\n",
       "      <th>confirmed_cases</th>\n",
       "      <th>deaths</th>\n",
       "      <th>recovered</th>\n",
       "      <th>data_source</th>\n",
       "      <th>country_code</th>\n",
       "      <th>region</th>\n",
       "    </tr>\n",
       "  </thead>\n",
       "  <tbody>\n",
       "    <tr>\n",
       "      <th>0</th>\n",
       "      <td>Hubei</td>\n",
       "      <td>China</td>\n",
       "      <td>729</td>\n",
       "      <td>39.0</td>\n",
       "      <td>NaN</td>\n",
       "      <td>bno</td>\n",
       "      <td>CHN</td>\n",
       "      <td>Asia</td>\n",
       "    </tr>\n",
       "    <tr>\n",
       "      <th>1</th>\n",
       "      <td>Guangdong</td>\n",
       "      <td>China</td>\n",
       "      <td>53</td>\n",
       "      <td>0.0</td>\n",
       "      <td>NaN</td>\n",
       "      <td>bno</td>\n",
       "      <td>CHN</td>\n",
       "      <td>Asia</td>\n",
       "    </tr>\n",
       "    <tr>\n",
       "      <th>2</th>\n",
       "      <td>Zhejiang</td>\n",
       "      <td>China</td>\n",
       "      <td>43</td>\n",
       "      <td>0.0</td>\n",
       "      <td>NaN</td>\n",
       "      <td>bno</td>\n",
       "      <td>CHN</td>\n",
       "      <td>Asia</td>\n",
       "    </tr>\n",
       "  </tbody>\n",
       "</table>\n",
       "</div>"
      ],
      "text/plain": [
       "    province country  confirmed_cases  deaths  recovered data_source  \\\n",
       "0      Hubei   China              729    39.0        NaN         bno   \n",
       "1  Guangdong   China               53     0.0        NaN         bno   \n",
       "2   Zhejiang   China               43     0.0        NaN         bno   \n",
       "\n",
       "  country_code region  \n",
       "0          CHN   Asia  \n",
       "1          CHN   Asia  \n",
       "2          CHN   Asia  "
      ]
     },
     "execution_count": 8,
     "metadata": {},
     "output_type": "execute_result"
    }
   ],
   "source": [
    "df.head(3)"
   ]
  },
  {
   "cell_type": "code",
   "execution_count": 9,
   "metadata": {},
   "outputs": [
    {
     "data": {
      "text/plain": [
       "<AxesSubplot:>"
      ]
     },
     "execution_count": 9,
     "metadata": {},
     "output_type": "execute_result"
    },
    {
     "data": {
      "image/png": "[encoded data removed]",
      "text/plain": [
       "<Figure size 720x720 with 2 Axes>"
      ]
     },
     "metadata": {
      "needs_background": "light"
     },
     "output_type": "display_data"
    }
   ],
   "source": [
    "df_kor = df.corr()\n",
    "plt.figure(figsize=(10,10))\n",
    "sns.heatmap(df_kor, vmin=-1, vmax=1, cmap=\"viridis\", annot=True, linewidth=0.1)"
   ]
  },
  {
   "cell_type": "code",
   "execution_count": 10,
   "metadata": {},
   "outputs": [
    {
     "data": {
      "text/plain": [
       "province           0\n",
       "country            0\n",
       "confirmed_cases    0\n",
       "deaths             0\n",
       "recovered          0\n",
       "data_source        0\n",
       "country_code       0\n",
       "region             0\n",
       "dtype: int64"
      ]
     },
     "execution_count": 10,
     "metadata": {},
     "output_type": "execute_result"
    }
   ],
   "source": [
    "df.isnull().sum()\n",
    "df.dropna(inplace=True)\n",
    "df.isnull().sum()"
   ]
  },
  {
   "cell_type": "code",
   "execution_count": 11,
   "metadata": {},
   "outputs": [],
   "source": [
    "y=df[\"confirmed_cases\"]\n",
    "\n",
    "x=df[[\"deaths\", \"recovered\"]]\n",
    "x_train, x_test, y_train, y_test = train_test_split(x, y, test_size = 0.2, random_state = 465)"
   ]
  },
  {
   "cell_type": "code",
   "execution_count": 12,
   "metadata": {},
   "outputs": [
    {
     "name": "stdout",
     "output_type": "stream",
     "text": [
      "Training Data Count: (2468, 2)\n",
      "Testing Data Count:: (617, 2)\n",
      "(617,)\n",
      "(2468,)\n"
     ]
    }
   ],
   "source": [
    "print('Training Data Count:', x_train.shape)\n",
    "print('Testing Data Count::', x_test.shape) \n",
    "print(y_test.shape)\n",
    "print(y_train.shape)"
   ]
  },
  {
   "cell_type": "code",
   "execution_count": 13,
   "metadata": {},
   "outputs": [
    {
     "data": {
      "text/plain": [
       "GaussianNB()"
      ]
     },
     "execution_count": 13,
     "metadata": {},
     "output_type": "execute_result"
    }
   ],
   "source": [
    "model = GaussianNB()\n",
    "model.fit(x_train,y_train)"
   ]
  },
  {
   "cell_type": "code",
   "execution_count": 14,
   "metadata": {},
   "outputs": [
    {
     "data": {
      "text/plain": [
       "array([ 151,    2,  296,    0,    0,   91,  935,    0,    2,    0,    0,\n",
       "         18,  342,    0,    0,  935,  259,  481,  126,    2,  354,  146,\n",
       "          0,  245,    2,   25,  245,    4,    2,  480,   25,    0,    0,\n",
       "          4,    0,  661,    0,  121,    0,   10,  661,  168,    4, 1018,\n",
       "          4,    4,    0,   31,    0,    0,    0,  538,    0,    2,    0,\n",
       "          0,  631,  245,    0,    0,   76,    0,  212,  114,   25,   93,\n",
       "        311,    0,    0,  285,  114,    0,   83,  306,    0, 1016,    2,\n",
       "          4,   93,   91,  168,  366,    0,    0,  151,  631,    0,  480,\n",
       "          0,    0,    0,    0,    4,  146,    0,   75,  151,    0, 1018,\n",
       "          2,  245,   10,    2,    4,  195,  245,    0,  286,  481,   93,\n",
       "        661,  151,  990,  174,  151,    2,   10,    0,    4,    0,  146,\n",
       "          0,  151,    0,    0,    0,    0,    2,  366,  480,    4,    0,\n",
       "          4,    0,   93,    0,  661,  631,    0,  296,  121,    4,    0,\n",
       "        151,    0,    0,    0,   76,    2,    0,    4,    0,    0,  136,\n",
       "         61,    0,    0,    2,    0, 1016, 1352,   25,    0,    2,    2,\n",
       "        292,    0,    0,    0, 1205,  576,    0,  318,  275,    0,    0,\n",
       "        151,    0,   71,   10,    2,    4,  296,   61,    0,  168,    0,\n",
       "          4,  318,    0,    0,    0,    0,   76,  259,    0,    0,    0,\n",
       "       1352,    0,    0,    0,    0,  212,    2,    0,  318,    0,    0,\n",
       "         18,  114,    0,   18,    0,  259,    2,  576,    0,  252,    0,\n",
       "        240,  480,  934,    4,  174,    0,  354,   25,  146,    2,   93,\n",
       "          0,    0,   93,    0,   25,    0,    0,    0,  428,    2,    0,\n",
       "         88,    0,  935, 1272,    4,    2,  133,    0,    0,  112,    0,\n",
       "          0,    0,    0,   61,    0,    0,    0,    0,   93, 1350,  318,\n",
       "       1004,  133,   76,    0,    0,    0,    0,    0,    0,   76,    0,\n",
       "        252,    0,    0,  481,    0,    0,    0,  480,    4,  631,    0,\n",
       "        146,    0,    0,    0,    0,  366,   91,   25,   76,    0,    0,\n",
       "        318, 1352,    0,  150,   10,  631,    0,    2,    0,  480,    0,\n",
       "        259,    2,    0,    0,   25,    0,   26,  136,    2,  245,   76,\n",
       "        151,  112,    0,    0,    0,  245,  252,  240,  245,    0,  632,\n",
       "        476,    0,   93,    0,   76,    0,    0,  265,    0,  252,    0,\n",
       "          0,  153,    0,  538,  539,    0,   30,   18,    4,    0,  252,\n",
       "         93,    2,  480,  631,    4,    0,    0,    0,  418,  112,    0,\n",
       "        480,    0,    0,    0,  245,    0,  229, 1272,  631,  342,    0,\n",
       "        480,    2, 1272,    0,   75,    0,  631,    0,  117,   18,  195,\n",
       "          0,   25,    0,    0,    0,    2,    0,    0,    0,   18,  935,\n",
       "        989,    0,  399,  245,    4,   21,    0,  576,    0,    4,    0,\n",
       "          2,   93,    0,    0,    0,  245,    0,    0,    2,    0,  342,\n",
       "          0,    2,  174,    0,  632,  278,   93,    0,    0,    0,  342,\n",
       "          2,    0,   88,    0,  174,    2,  136,   25,    0,  342,    0,\n",
       "          2,  934,    0,    0,    0,    0,    0,  245,   10,    2,    0,\n",
       "          0,    0,    0,  990,  102,   25,    0,   75,    4,    0,   10,\n",
       "        245,    2,  539,    2,   18,    0,   25,    0,    0,  756,    0,\n",
       "        141,    4,    0,  990,    0,  252,    0,  174,    0,  576,    0,\n",
       "          0,  275,   26,    0,    0,    0,    2,   18,    0,    0,    4,\n",
       "          2,    2,    0,    4,    0,  934,    0,    0,    0,    0,  146,\n",
       "        259,    0,    0,    0,   88,    0,  935,  126,   14,    0,    0,\n",
       "          2,    0,    0,    2,  168,  935,    2,    0,    0,    0,  318,\n",
       "        576,    0,   91,    0,    0,    0,    0,    2,    4,  151,    4,\n",
       "        480,   91,  168,  240,    0,    4,    0,    0,    2,  661,    0,\n",
       "          0,    0,  146,    0,  296,  245,    0,   10, 1018,  245,    0,\n",
       "         93,  758,  136,    0,    0,    0,  296,    4,   76,    0,  245,\n",
       "          0,    0,  133,   93,  576,  151,   30,  126,    0,    0,    2,\n",
       "        311,    0,    2,    0,  259,    0,  481,    4,  813,  480,  133,\n",
       "          0, 1271,   10,    0,    0,    0, 1215,    0,    2,    0,    0,\n",
       "        146,  600,   18, 1018,  283,    0,  212, 1272,    2,   76,   25,\n",
       "        476], dtype=int64)"
      ]
     },
     "execution_count": 14,
     "metadata": {},
     "output_type": "execute_result"
    }
   ],
   "source": [
    "yG_pred = model.predict(x_test)\n",
    "yG_pred"
   ]
  },
  {
   "cell_type": "code",
   "execution_count": 15,
   "metadata": {},
   "outputs": [
    {
     "name": "stdout",
     "output_type": "stream",
     "text": [
      "Naive Bayes model accuracy: 15.559157212317668\n"
     ]
    }
   ],
   "source": [
    "accuracy = accuracy_score(y_test,yG_pred)*100\n",
    "print(\"Naive Bayes model accuracy:\", accuracy) "
   ]
  },
  {
   "cell_type": "code",
   "execution_count": 17,
   "metadata": {},
   "outputs": [
    {
     "data": {
      "text/plain": [
       "array([    6,     1,   539,     2,     2,    76,   935,     2,     1,\n",
       "           2,     2,    96,   342,     2,     2,  1018,    10,   480,\n",
       "         162,     1,    10,   121,     2,   245,     1,    18,   252,\n",
       "           3,     1, 67466,    18,     2,     2,     3,     2,   127,\n",
       "           2,   121,     2,    10,    70,   168,    10,   935,     3,\n",
       "           3,     2,    14,     2,     2,     2,   538,     2,     1,\n",
       "           2,     2,   576,   133,     2,     2,    76,     2,    41,\n",
       "          22,    18,   135,   252,     2,     2,    75,    22,     2,\n",
       "          31,   306,     2,   935,     1,    10,   125,    91,   168,\n",
       "       33366,     2,     2,     6,   576,     2,   309,     2,     2,\n",
       "           2,     2,     3,   146,     2,    75,     6,     2,   990,\n",
       "           1,   245,    10,     1,     3,    18,   174,     2,    10,\n",
       "         481,    75,   124,     6,   990,   136,     6,     1,    10,\n",
       "           2,     3,     2,    91,     2,     6,     2,     2,     2,\n",
       "           2,     1, 61682,   311,     3,     2,     3,     2,   122,\n",
       "           2,    70,   296,     2,   342,    91,     3,     2,     6,\n",
       "           2,     2,     2,    76,     1,     2,    10,     2,     2,\n",
       "         136,    10,     2,     2,     1,     2,   758,  1352,    18,\n",
       "           2,     1,     1,   121,     2,     2,     2,   758,   576,\n",
       "           2,   245,    18,     2,     2,     6,     2,    76,    10,\n",
       "           1,     3,   296,    10,     2,   136,     2,     3,   344,\n",
       "           2,     2,     2,     2,   100,    10,     2,     2,     2,\n",
       "        1215,     2,     2,     2,     2,    41,     1,     2,   311,\n",
       "           2,     2,    96,    22,     2,    18,     2,    10,     1,\n",
       "         576,     2,   245,     2,   132, 67466,   576,     3,   174,\n",
       "           2,    10,    18,    91,     1,   146,     2,     2,    93,\n",
       "           2,    18,     2,     2,     2,  1205,     1,     2,    70,\n",
       "           2,   935,  1213,     3,     1,   133,     2,     2,    40,\n",
       "           2,     2,     2,     2,    10,     2,     2,     2,     2,\n",
       "          75,   990,   318,   539,   133,   100,     2,     2,     2,\n",
       "           2,     2,     2,    76,     2,   245,     2,     2,   480,\n",
       "           2,     2,     2,   576,     3,   252,     2,    93,     2,\n",
       "           2,     2,     2,   444,    91,    18,    91,     2,     2,\n",
       "         317,  1352,     2,    18,    10,   576,     2,     1,     2,\n",
       "         318,     2,    10,     1,     2,     2,    18,     2,    22,\n",
       "         136,     1,   174,    91,     6,    68,     2,     2,     2,\n",
       "         174,   543,    93,   174,     2,    18, 66337,     2,    75,\n",
       "           2,    90,     2,     2,    76,     2,   296,     2,     2,\n",
       "         153,     2,   631,   539,     2,    32,    75,     3,     2,\n",
       "         245,   146,     1, 67466,   631,     3,     2,     2,     2,\n",
       "         418,    40,     2,   758,     2,     2,     2,   174,     2,\n",
       "         171,  1272,   576,   124,     2, 67466,     1,  1272,     2,\n",
       "          72,     2,   539,     2,    83,    18,    76,     2,    18,\n",
       "           2,     2,     2,     1,     2,     2,     2,    75,   990,\n",
       "         989,     2,   514,   245,     3,    80,     2,   539,     2,\n",
       "           3,     2,     1,    71,     2,     2,     2,   252,     2,\n",
       "           2,     1,     2,   296,     2,     1,   174,     2,    18,\n",
       "          80,    75,     2,     2,     2,   576,     1,     2,    89,\n",
       "           2,   174,     1,   136,    18,     2,   337,     2,     1,\n",
       "         576,     2,     2,     2,     2,     2,   174,    10,     1,\n",
       "           2,     2,     2,     2,  1018,    91,    18,     2,    71,\n",
       "           3,     2,    10,   245,     1,   576,     1,   168,     2,\n",
       "          18,     2,     2,   756,     2,    18,     3,     2,   935,\n",
       "           2,   245,     2,   293,     2,   576,     2,     2,    18,\n",
       "          22,     2,     2,     2,     1,    53,     2,     2,     3,\n",
       "           1,     1,     2,    10,     2,   631,     2,     2,     2,\n",
       "           2,    91,    10,     2,     2,     2,    70,     2,   935,\n",
       "         162,     9,     2,     2,     1,     2,     2,     1,   168,\n",
       "         935,     1,     2,     2,     2,   318,   576,     2,    91,\n",
       "           2,     2,     2,     2,     1,    10,     6,     3,   335,\n",
       "          76,   168,    93,     2,    10,     2,     2,     1,    75,\n",
       "           2,     2,     2,   146,     2,   337,   245,     2,    10,\n",
       "         935,   174,     2,    93,   576,   136,     2,     2,     2,\n",
       "         296,     3,   131,     2,   245,     2,     2,   146,    75,\n",
       "         576,     6,    32,   162,     2,     2,     1,   400,     2,\n",
       "           1,     2,    10,     2,   481,    10,   124,   631,   133,\n",
       "           2,   935,    10,     2,     2,     2,  1215,     2,     1,\n",
       "           2,     2,   125,   127,    18,   935,   102,     2,    41,\n",
       "        1272,     1,    76,    18, 64786], dtype=int64)"
      ]
     },
     "execution_count": 17,
     "metadata": {},
     "output_type": "execute_result"
    }
   ],
   "source": [
    "from sklearn.neighbors import KNeighborsClassifier \n",
    "knn = KNeighborsClassifier(n_neighbors=3) \n",
    "knn.fit(x_train, y_train) \n",
    "\n",
    "yK_pred = knn.predict(x_test) \n",
    "yK_pred"
   ]
  },
  {
   "cell_type": "code",
   "execution_count": 18,
   "metadata": {},
   "outputs": [
    {
     "name": "stdout",
     "output_type": "stream",
     "text": [
      "kNN model accuracy: 20.583468395461914\n"
     ]
    }
   ],
   "source": [
    "print(\"kNN model accuracy:\", accuracy_score(y_test, yK_pred)*100) "
   ]
  },
  {
   "cell_type": "code",
   "execution_count": 19,
   "metadata": {},
   "outputs": [
    {
     "data": {
      "text/plain": [
       "DecisionTreeClassifier()"
      ]
     },
     "execution_count": 19,
     "metadata": {},
     "output_type": "execute_result"
    }
   ],
   "source": [
    "from sklearn.tree import DecisionTreeClassifier\n",
    "dt = DecisionTreeClassifier()\n",
    "dt.fit(x_train, y_train)"
   ]
  },
  {
   "cell_type": "code",
   "execution_count": 20,
   "metadata": {},
   "outputs": [
    {
     "data": {
      "text/plain": [
       "array([    4,     1,   934,     1,     1,   146,   935,     1,     1,\n",
       "           1,     1,    96,   342,     1,     1,   935,    11,   480,\n",
       "          75,     1,    10,   124,     1,   245,     1,     2,   245,\n",
       "           2,     1, 67707,     2,     1,     1,     2,     1,   127,\n",
       "           1,   143,     1,    10,    70,   168,    18,  1018,     2,\n",
       "           2,     1,    31,     1,     1,     1,   988,     1,     1,\n",
       "           1,     1,   631,   326,     1,     1,    76,     1,    45,\n",
       "          22,     2,   122,   311,     1,     1,    75,    22,     1,\n",
       "          31,   306,     1,  1016,     1,    18,   125,   851,   168,\n",
       "       33366,     1,     1,     4,   631,     1,   480,     1,     1,\n",
       "           1,     1,     2,   146,     1,    75,     4,     1,  1018,\n",
       "           1,   245,    10,     1,     2,   133,   293,     1,    10,\n",
       "         481,    75,   124,     4,   990,   146,     4,     1,    10,\n",
       "           1,     2,     1,    91,     1,     4,     1,     1,     1,\n",
       "           1,     1, 62442,   480,     2,     1,     2,     1,   122,\n",
       "           1,    70,   626,     1,   296,    91,     2,     1,     4,\n",
       "           1,     1,     1,    87,     1,     1,    18,     1,     1,\n",
       "         136,    10,     1,     1,     1,     1,  1013,  1352,     2,\n",
       "           1,     1,     1,   292,     1,     1,     1,  1175,   576,\n",
       "           1,   553,    18,     1,     1,     4,     1,   360,    10,\n",
       "           1,     2,   296,    10,     1,   168,     1,     2,   534,\n",
       "           1,     1,     1,     1,   100,    11,     1,     1,     1,\n",
       "        1352,     1,     1,     1,     1,    45,     1,     1,   311,\n",
       "           1,     1,    96,    22,     1,    75,     1,    11,     1,\n",
       "         758,     1,   541,     1,   132, 67466,  1008,     2,   252,\n",
       "           1,    10,     2,    91,     1,  1095,     1,     1,    93,\n",
       "           1,     2,     1,     1,     1,  1271,     1,     1,    70,\n",
       "           1,   935,  1271,     2,     1,   133,     1,     1,   106,\n",
       "           1,     1,     1,     1,    10,     1,     1,     1,     1,\n",
       "          75,  1349,   339,  1004,   133,    96,     1,     1,     1,\n",
       "           1,     1,     1,    76,     1,   335,     1,     1,   480,\n",
       "           1,     1,     1,  1231,     2,  1075,     1,   146,     1,\n",
       "           1,     1,     1,   444,   851,     2,   120,     1,     1,\n",
       "         413,  1352,     1,    18,    10,   631,     1,     1,     1,\n",
       "         480,     1,    11,     1,     1,     1,     2,     1,    26,\n",
       "         136,     1,   293,   115,     4,   300,     1,     1,     1,\n",
       "         293,   252,   132,   333,     1,    18, 67103,     1,    75,\n",
       "           1,    90,     1,     1,   265,     1,   335,     1,     1,\n",
       "         153,     1,   988,   539,     1,    30,    18,     2,     1,\n",
       "         334,   146,     1, 67707,   631,     2,     1,     1,     1,\n",
       "         418,   106,     1, 19665,     1,     1,     1,   333,     1,\n",
       "         229,  1272,   631,   283,     1, 67707,     1,  1272,     1,\n",
       "          72,     1,   631,     1,    83,    75,    76,     1,     2,\n",
       "           1,     1,     1,     1,     1,     1,     1,    18,  1205,\n",
       "         989,     1,   399,   245,     2,    80,     1,   758,     1,\n",
       "           2,     1,     1,    75,     1,     1,     1,   245,     1,\n",
       "           1,     1,     1,   337,     1,     1,   174,     1,    18,\n",
       "          80,    75,     1,     1,     1,   538,     1,     1,    95,\n",
       "           1,   174,     1,   136,     2,     1,   337,     1,     1,\n",
       "        1008,     1,     1,     1,     1,     1,   333,    10,     1,\n",
       "           1,     1,     1,     1,   990,    91,     2,     1,    75,\n",
       "           2,     1,    10,   245,     1,   539,     1,   168,     1,\n",
       "           2,     1,     1,   756,     1,    18,     2,     1,   990,\n",
       "           1,   252,     1,   252,     1,   758,     1,     1,    18,\n",
       "          26,     1,     1,     1,     1,    53,     1,     1,     2,\n",
       "           1,     1,     1,    18,     1,  1008,     1,     1,     1,\n",
       "           1,    91,    11,     1,     1,     1,    70,     1,   935,\n",
       "          75,    56,     1,     1,     1,     1,     1,     1,   168,\n",
       "         935,     1,     1,     1,     1,   413,   758,     1,   851,\n",
       "           1,     1,     1,     1,     1,    18,     4,     2,   480,\n",
       "         337,   168,   240,     1,    18,     1,     1,     1,    75,\n",
       "           1,     1,     1,   146,     1,   296,   245,     1,    10,\n",
       "        1018,   328,     1,    93,   576,   136,     1,     1,     1,\n",
       "         296,     2,   144,     1,   245,     1,     1,   133,    75,\n",
       "         576,     4,    30,    75,     1,     1,     1,   311,     1,\n",
       "           1,     1,    11,     1,   481,    18,   124, 19665,   133,\n",
       "           1,  1270,    10,     1,     1,     1,  1215,     1,     1,\n",
       "           1,     1,   509,   600,    75,  1018,   283,     1,    45,\n",
       "        1272,     1,    76,     2, 65187], dtype=int64)"
      ]
     },
     "execution_count": 20,
     "metadata": {},
     "output_type": "execute_result"
    }
   ],
   "source": [
    "yD_pred = dt.predict(x_test) \n",
    "yD_pred"
   ]
  },
  {
   "cell_type": "code",
   "execution_count": 21,
   "metadata": {},
   "outputs": [
    {
     "name": "stdout",
     "output_type": "stream",
     "text": [
      "Decision Tree model accuracy: 36.466774716369535\n"
     ]
    }
   ],
   "source": [
    "print(\"Decision Tree model accuracy:\", accuracy_score(y_test, yD_pred)*100) "
   ]
  },
  {
   "cell_type": "code",
   "execution_count": 22,
   "metadata": {},
   "outputs": [
    {
     "name": "stderr",
     "output_type": "stream",
     "text": [
      "c:\\python\\python385\\lib\\site-packages\\sklearn\\svm\\_base.py:976: ConvergenceWarning: Liblinear failed to converge, increase the number of iterations.\n",
      "  warnings.warn(\"Liblinear failed to converge, increase \"\n"
     ]
    },
    {
     "data": {
      "text/plain": [
       "LinearSVC()"
      ]
     },
     "execution_count": 22,
     "metadata": {},
     "output_type": "execute_result"
    }
   ],
   "source": [
    "from sklearn.svm import LinearSVC \n",
    "svc = LinearSVC()\n",
    "svc.fit(x_train, y_train)"
   ]
  },
  {
   "cell_type": "code",
   "execution_count": null,
   "metadata": {},
   "outputs": [],
   "source": []
  }
 ],
 "metadata": {
  "kernelspec": {
   "display_name": "Python 3",
   "language": "python",
   "name": "python3"
  },
  "language_info": {
   "codemirror_mode": {
    "name": "ipython",
    "version": 3
   },
   "file_extension": ".py",
   "mimetype": "text/x-python",
   "name": "python",
   "nbconvert_exporter": "python",
   "pygments_lexer": "ipython3",
   "version": "3.8.5"
  }
 },
 "nbformat": 4,
 "nbformat_minor": 4
}
